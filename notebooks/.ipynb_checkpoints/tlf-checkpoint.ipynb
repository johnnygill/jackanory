{
 "metadata": {
  "celltoolbar": "Slideshow",
  "name": "",
  "signature": "sha256:93637a45d82b5a57afcb9579c929db5bf4354e890ae3370ffbd57f628920f571"
 },
 "nbformat": 3,
 "nbformat_minor": 0,
 "worksheets": [
  {
   "cells": [
    {
     "cell_type": "markdown",
     "metadata": {
      "slideshow": {
       "slide_type": "slide"
      }
     },
     "source": [
      "# Technology Leadership Forum\n",
      "\n",
      "**Johnny Gill**\n",
      "\n",
      "<johnny.n.s.gill@gmail.com>\n",
      "\n",
      "<jgill@tokiomillennium.com>"
     ]
    },
    {
     "cell_type": "markdown",
     "metadata": {
      "slideshow": {
       "slide_type": "slide"
      }
     },
     "source": [
      "#About Me\n",
      "\n",
      "* 17 years working on risk modelling systems for Bermuda reinsureres\n",
      "* Much of my work uses open source software\n",
      "* Currently with Tokio Millennium Re\n",
      "\n",
      "Thanks to Tokio for letting me be here today."
     ]
    },
    {
     "cell_type": "markdown",
     "metadata": {
      "slideshow": {
       "slide_type": "slide"
      }
     },
     "source": [
      "# About you\n",
      "\n",
      "* What are your interests?\n",
      "* What are you hoping to do in your work?\n",
      "* What do you know about open source software?"
     ]
    },
    {
     "cell_type": "markdown",
     "metadata": {
      "slideshow": {
       "slide_type": "slide"
      }
     },
     "source": [
      "# A brief history of open source\n",
      "\n",
      "* $1M for a computer, people shared code\n",
      "* PC era: can sell millions of copies of software, closed source arrived\n",
      "* Richard Stallman, Linus Torvalds: open source movement\n",
      "  * Give you the tools and the manual that shows you how to build them\n",
      "* [ohloh.net](http://ohloh.net) 30 billion lines of open source code"
     ]
    },
    {
     "cell_type": "markdown",
     "metadata": {
      "slideshow": {
       "slide_type": "slide"
      }
     },
     "source": [
      "# Open source, open data, open science\n",
      "\n",
      "Ideas extent to other areas:\n",
      "\n",
      "* [Wikipedia](http://wikipedia.org)\n",
      "* Scientific research\n",
      "* Open data"
     ]
    },
    {
     "cell_type": "markdown",
     "metadata": {
      "slideshow": {
       "slide_type": "slide"
      }
     },
     "source": [
      "# Advantages of using open source\n",
      "\n",
      "* Development model that scales\n",
      "* Empowers everyone to contribute\n",
      "* Results in better design\n",
      "* Open source developers build tools to help them work better"
     ]
    },
    {
     "cell_type": "markdown",
     "metadata": {
      "slideshow": {
       "slide_type": "slide"
      }
     },
     "source": [
      "# Open source communities in Bermuda\n",
      "\n",
      "* Education\n",
      "  * Children at schools, after school clubs\n",
      "  * College students\n",
      "  * Learn to code without leaving the island\n",
      "* Computer recycling\n",
      "  * Installing linux onto old computers\n",
      "  * Teaching people to use it\n",
      "  * Teaching coding skills\n",
      "* Mentoring\n",
      "* Open source projects\n",
      "* Climate and environmental research\n",
      "* PyData conference here in Bermuda"
     ]
    },
    {
     "cell_type": "markdown",
     "metadata": {
      "slideshow": {
       "slide_type": "slide"
      }
     },
     "source": [
      "# Python Language\n",
      "\n",
      "* PyCon 2014\n",
      "* [PyCon videos](http://pyvideo.org/category/50/pycon-us-2014)"
     ]
    },
    {
     "cell_type": "markdown",
     "metadata": {
      "slideshow": {
       "slide_type": "slide"
      }
     },
     "source": [
      "# Open source in finance\n",
      "\n",
      "### Finance industry\n",
      "\n",
      "* [Two sigma](http://www.twosigma.com/)\n",
      "* [Two sigma open source](https://github.com/twosigma)\n",
      "\n",
      "### Reinsurance industry\n",
      "\n",
      "* Bermuda reinsurers historically based on closed source\n",
      "* Microsoft shops\n",
      "* Starting to use more and more open source"
     ]
    },
    {
     "cell_type": "markdown",
     "metadata": {
      "slideshow": {
       "slide_type": "slide"
      }
     },
     "source": [
      "# Oasis loss model framework\n",
      "\n",
      "[Oasis loss model framework](http://oasislmf.com)\n",
      "\n"
     ]
    },
    {
     "cell_type": "markdown",
     "metadata": {
      "slideshow": {
       "slide_type": "slide"
      }
     },
     "source": [
      "# Raspberry Pi\n",
      "\n",
      "[Raspberry Pi](http://raspberrypi.org)"
     ]
    }
   ],
   "metadata": {}
  }
 ]
}