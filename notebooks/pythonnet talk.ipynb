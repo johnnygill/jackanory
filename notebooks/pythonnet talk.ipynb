{
 "metadata": {
  "celltoolbar": "Slideshow",
  "name": "",
  "signature": "sha256:5d58df9d55f8d79e5f0366669e391e5183ff74963ab512cd68d0e74728442897"
 },
 "nbformat": 3,
 "nbformat_minor": 0,
 "worksheets": [
  {
   "cells": [
    {
     "cell_type": "markdown",
     "metadata": {
      "slideshow": {
       "slide_type": "slide"
      }
     },
     "source": [
      "Some Python Magic\n",
      "=================\n",
      "\n",
      "<img src=\"magic.jpg\">\n",
      "\n",
      "**John Gill**\n",
      "\n",
      "<swfiua@gmail.com>\n",
      "\n",
      "<http://xkcd.com/353/>"
     ]
    },
    {
     "cell_type": "markdown",
     "metadata": {
      "slideshow": {
       "slide_type": "subslide"
      }
     },
     "source": [
      "<http://127.0.0.1:8000/pythonnet%20talk.slides.html?theme=beige&transition=fade#/>"
     ]
    },
    {
     "cell_type": "markdown",
     "metadata": {
      "slideshow": {
       "slide_type": "slide"
      }
     },
     "source": [
      "Who uses python on windows?\n",
      "===========================\n",
      "<img src=\"windows.jpg\" height=\"300\" width=\"300\">"
     ]
    },
    {
     "cell_type": "markdown",
     "metadata": {
      "slideshow": {
       "slide_type": "slide"
      }
     },
     "source": [
      "Who uses IronPython?\n",
      "====================\n",
      "\n",
      "<img src=\"ironpython.jpg\">"
     ]
    },
    {
     "cell_type": "markdown",
     "metadata": {
      "slideshow": {
       "slide_type": "fragment"
      }
     },
     "source": [
      "What about:\n",
      "===========\n",
      "\n",
      " * numpy\n",
      " * scipy\n",
      " * pandas\n",
      " * matplotlib?"
     ]
    },
    {
     "cell_type": "markdown",
     "metadata": {
      "slideshow": {
       "slide_type": "fragment"
      }
     },
     "source": [
      "**What we really need is cpython which can call .NET objects seamlessly**"
     ]
    },
    {
     "cell_type": "markdown",
     "metadata": {
      "slideshow": {
       "slide_type": "slide"
      }
     },
     "source": [
      "Pythonnet\n",
      "=========\n",
      "\n",
      "https://github.com/pythonnet/pythonnet\n",
      "\n",
      "Thanks to:\n",
      "\n",
      "* Brian Lloyd\n",
      "\n",
      "* David Anthoff\n",
      "\n",
      "**pip install --pre pythonnet**\n",
      "\n",
      "<img src=\"pythonnet.jpg\">\n",
      "\n"
     ]
    },
    {
     "cell_type": "markdown",
     "metadata": {
      "slideshow": {
       "slide_type": "slide"
      }
     },
     "source": [
      "Magic time -- imagine\n",
      "=====================\n",
      "\n",
      "> **Imagine there's no numpy, it's easy if you try**\n",
      "\n",
      "> **Imagine there's no batteries, only MS .Net**\n",
      "\n",
      "<img src=\"magic.jpg\">"
     ]
    },
    {
     "cell_type": "code",
     "collapsed": false,
     "input": [
      "import clr\n",
      "\n",
      "from System import Random\n",
      "\n",
      "rand = Random()\n",
      "\n",
      "data = pylab.hist([rand.Next() for x in xrange(1000)])"
     ],
     "language": "python",
     "metadata": {
      "slideshow": {
       "slide_type": "slide"
      }
     },
     "outputs": [
      {
       "metadata": {},
       "output_type": "display_data",
       "png": "[encoded data removed]",
       "text": [
        "<matplotlib.figure.Figure at 0x83a64a8>"
       ]
      }
     ],
     "prompt_number": 18
    },
    {
     "cell_type": "markdown",
     "metadata": {
      "slideshow": {
       "slide_type": "subslide"
      }
     },
     "source": [
      "Can use **any** .NET dll\n",
      "========================\n",
      "\n",
      "###Put folder containing the DLLs you want to use in your PYTHONPATH\n",
      "\n",
      "<pre><code>\n",
      "   import clr\n",
      "   clr.AddReference(\"Name.Of.Your.Assembly\")\n",
      "\n",
      "   from assembly.name import DotNetClass\n",
      "   </code></pre>"
     ]
    },
    {
     "cell_type": "code",
     "collapsed": false,
     "input": [
      "from System.Diagnostics import Trace\n",
      "\n",
      "Trace.WriteLine(\"message from python\")"
     ],
     "language": "python",
     "metadata": {
      "slideshow": {
       "slide_type": "subslide"
      }
     },
     "outputs": [],
     "prompt_number": 8
    },
    {
     "cell_type": "markdown",
     "metadata": {
      "slideshow": {
       "slide_type": "slide"
      }
     },
     "source": [
      "Thanks\n",
      "======\n",
      "\n",
      "To everyone who made this possible..\n",
      "\n",
      "Special thanks to:  Cristoph Gohlke"
     ]
    },
    {
     "cell_type": "markdown",
     "metadata": {
      "slideshow": {
       "slide_type": "slide"
      }
     },
     "source": [
      "Christoph Gohlke\n",
      "================\n",
      " \n",
      "Binary packages for windows:\n",
      " \n",
      "http://www.lfd.uci.edu/~gohlke/pythonlibs/"
     ]
    },
    {
     "cell_type": "code",
     "collapsed": false,
     "input": [
      "\"thank you!\" * 1000"
     ],
     "language": "python",
     "metadata": {
      "slideshow": {
       "slide_type": "fragment"
      }
     },
     "outputs": [
      {
       "metadata": {},
       "output_type": "pyout",
       "prompt_number": 1,
       "text": [
        "'thank you!thank you!thank you!thank you!thank you!thank you!thank you!thank you!thank you!thank you!thank you!thank you!thank you!thank you!thank you!thank you!thank you!thank you!thank you!thank you!thank you!thank you!thank you!thank you!thank you!thank you!thank you!thank you!thank you!thank you!thank you!thank you!thank you!thank you!thank you!thank you!thank you!thank you!thank you!thank you!thank you!thank you!thank you!thank you!thank you!thank you!thank you!thank you!thank you!thank you!thank you!thank you!thank you!thank you!thank you!thank you!thank you!thank you!thank you!thank you!thank you!thank you!thank you!thank you!thank you!thank you!thank you!thank you!thank you!thank you!thank you!thank you!thank you!thank you!thank you!thank you!thank you!thank you!thank you!thank you!thank you!thank you!thank you!thank you!thank you!thank you!thank you!thank you!thank you!thank you!thank you!thank you!thank you!thank you!thank you!thank you!thank you!thank you!thank you!thank you!thank you!thank you!thank you!thank you!thank you!thank you!thank you!thank you!thank you!thank you!thank you!thank you!thank you!thank you!thank you!thank you!thank you!thank you!thank you!thank you!thank you!thank you!thank you!thank you!thank you!thank you!thank you!thank you!thank you!thank you!thank you!thank you!thank you!thank you!thank you!thank you!thank you!thank you!thank you!thank you!thank you!thank you!thank you!thank you!thank you!thank you!thank you!thank you!thank you!thank you!thank you!thank you!thank you!thank you!thank you!thank you!thank you!thank you!thank you!thank you!thank you!thank you!thank you!thank you!thank you!thank you!thank you!thank you!thank you!thank you!thank you!thank you!thank you!thank you!thank you!thank you!thank you!thank you!thank you!thank you!thank you!thank you!thank you!thank you!thank you!thank you!thank you!thank you!thank you!thank you!thank you!thank you!thank you!thank you!thank you!thank you!thank you!thank you!thank you!thank you!thank you!thank you!thank you!thank you!thank you!thank you!thank you!thank you!thank you!thank you!thank you!thank you!thank you!thank you!thank you!thank you!thank you!thank you!thank you!thank you!thank you!thank you!thank you!thank you!thank you!thank you!thank you!thank you!thank you!thank you!thank you!thank you!thank you!thank you!thank you!thank you!thank you!thank you!thank you!thank you!thank you!thank you!thank you!thank you!thank you!thank you!thank you!thank you!thank you!thank you!thank you!thank you!thank you!thank you!thank you!thank you!thank you!thank you!thank you!thank you!thank you!thank you!thank you!thank you!thank you!thank you!thank you!thank you!thank you!thank you!thank you!thank you!thank you!thank you!thank you!thank you!thank you!thank you!thank you!thank you!thank you!thank you!thank you!thank you!thank you!thank you!thank you!thank you!thank you!thank you!thank you!thank you!thank you!thank you!thank you!thank you!thank you!thank you!thank you!thank you!thank you!thank you!thank you!thank you!thank you!thank you!thank you!thank you!thank you!thank you!thank you!thank you!thank you!thank you!thank you!thank you!thank you!thank you!thank you!thank you!thank you!thank you!thank you!thank you!thank you!thank you!thank you!thank you!thank you!thank you!thank you!thank you!thank you!thank you!thank you!thank you!thank you!thank you!thank you!thank you!thank you!thank you!thank you!thank you!thank you!thank you!thank you!thank you!thank you!thank you!thank you!thank you!thank you!thank you!thank you!thank you!thank you!thank you!thank you!thank you!thank you!thank you!thank you!thank you!thank you!thank you!thank you!thank you!thank you!thank you!thank you!thank you!thank you!thank you!thank you!thank you!thank you!thank you!thank you!thank you!thank you!thank you!thank you!thank you!thank you!thank you!thank you!thank you!thank you!thank you!thank you!thank you!thank you!thank you!thank you!thank you!thank you!thank you!thank you!thank you!thank you!thank you!thank you!thank you!thank you!thank you!thank you!thank you!thank you!thank you!thank you!thank you!thank you!thank you!thank you!thank you!thank you!thank you!thank you!thank you!thank you!thank you!thank you!thank you!thank you!thank you!thank you!thank you!thank you!thank you!thank you!thank you!thank you!thank you!thank you!thank you!thank you!thank you!thank you!thank you!thank you!thank you!thank you!thank you!thank you!thank you!thank you!thank you!thank you!thank you!thank you!thank you!thank you!thank you!thank you!thank you!thank you!thank you!thank you!thank you!thank you!thank you!thank you!thank you!thank you!thank you!thank you!thank you!thank you!thank you!thank you!thank you!thank you!thank you!thank you!thank you!thank you!thank you!thank you!thank you!thank you!thank you!thank you!thank you!thank you!thank you!thank you!thank you!thank you!thank you!thank you!thank you!thank you!thank you!thank you!thank you!thank you!thank you!thank you!thank you!thank you!thank you!thank you!thank you!thank you!thank you!thank you!thank you!thank you!thank you!thank you!thank you!thank you!thank you!thank you!thank you!thank you!thank you!thank you!thank you!thank you!thank you!thank you!thank you!thank you!thank you!thank you!thank you!thank you!thank you!thank you!thank you!thank you!thank you!thank you!thank you!thank you!thank you!thank you!thank you!thank you!thank you!thank you!thank you!thank you!thank you!thank you!thank you!thank you!thank you!thank you!thank you!thank you!thank you!thank you!thank you!thank you!thank you!thank you!thank you!thank you!thank you!thank you!thank you!thank you!thank you!thank you!thank you!thank you!thank you!thank you!thank you!thank you!thank you!thank you!thank you!thank you!thank you!thank you!thank you!thank you!thank you!thank you!thank you!thank you!thank you!thank you!thank you!thank you!thank you!thank you!thank you!thank you!thank you!thank you!thank you!thank you!thank you!thank you!thank you!thank you!thank you!thank you!thank you!thank you!thank you!thank you!thank you!thank you!thank you!thank you!thank you!thank you!thank you!thank you!thank you!thank you!thank you!thank you!thank you!thank you!thank you!thank you!thank you!thank you!thank you!thank you!thank you!thank you!thank you!thank you!thank you!thank you!thank you!thank you!thank you!thank you!thank you!thank you!thank you!thank you!thank you!thank you!thank you!thank you!thank you!thank you!thank you!thank you!thank you!thank you!thank you!thank you!thank you!thank you!thank you!thank you!thank you!thank you!thank you!thank you!thank you!thank you!thank you!thank you!thank you!thank you!thank you!thank you!thank you!thank you!thank you!thank you!thank you!thank you!thank you!thank you!thank you!thank you!thank you!thank you!thank you!thank you!thank you!thank you!thank you!thank you!thank you!thank you!thank you!thank you!thank you!thank you!thank you!thank you!thank you!thank you!thank you!thank you!thank you!thank you!thank you!thank you!thank you!thank you!thank you!thank you!thank you!thank you!thank you!thank you!thank you!thank you!thank you!thank you!thank you!thank you!thank you!thank you!thank you!thank you!thank you!thank you!thank you!thank you!thank you!thank you!thank you!thank you!thank you!thank you!thank you!thank you!thank you!thank you!thank you!thank you!thank you!thank you!thank you!thank you!thank you!thank you!thank you!thank you!thank you!thank you!thank you!thank you!thank you!thank you!thank you!thank you!thank you!thank you!thank you!thank you!thank you!thank you!thank you!thank you!thank you!thank you!thank you!thank you!thank you!thank you!thank you!thank you!thank you!thank you!thank you!thank you!thank you!thank you!thank you!thank you!thank you!thank you!thank you!thank you!thank you!thank you!thank you!thank you!thank you!thank you!thank you!thank you!thank you!thank you!thank you!thank you!thank you!thank you!thank you!thank you!thank you!thank you!thank you!thank you!thank you!thank you!thank you!thank you!thank you!thank you!thank you!thank you!thank you!thank you!thank you!thank you!thank you!thank you!thank you!thank you!thank you!thank you!thank you!thank you!thank you!thank you!thank you!thank you!thank you!thank you!thank you!thank you!thank you!thank you!thank you!thank you!thank you!thank you!thank you!thank you!thank you!thank you!thank you!thank you!thank you!thank you!thank you!thank you!thank you!thank you!thank you!thank you!thank you!thank you!thank you!thank you!thank you!thank you!thank you!thank you!thank you!thank you!thank you!thank you!thank you!thank you!thank you!thank you!thank you!thank you!thank you!thank you!thank you!thank you!thank you!thank you!thank you!thank you!thank you!thank you!thank you!thank you!thank you!thank you!thank you!thank you!thank you!thank you!thank you!thank you!thank you!thank you!thank you!thank you!thank you!thank you!thank you!thank you!thank you!thank you!thank you!thank you!thank you!thank you!thank you!thank you!thank you!thank you!thank you!thank you!thank you!thank you!thank you!thank you!thank you!thank you!thank you!thank you!thank you!thank you!thank you!thank you!thank you!thank you!thank you!thank you!thank you!thank you!thank you!thank you!thank you!thank you!thank you!thank you!thank you!thank you!thank you!thank you!thank you!thank you!thank you!thank you!thank you!thank you!thank you!thank you!thank you!thank you!thank you!thank you!thank you!thank you!thank you!thank you!thank you!thank you!thank you!thank you!thank you!thank you!thank you!thank you!thank you!thank you!thank you!thank you!thank you!thank you!thank you!thank you!thank you!thank you!thank you!thank you!thank you!thank you!thank you!thank you!thank you!thank you!thank you!thank you!thank you!thank you!thank you!thank you!thank you!thank you!thank you!thank you!thank you!thank you!thank you!thank you!thank you!thank you!thank you!thank you!thank you!thank you!thank you!thank you!thank you!'"
       ]
      }
     ],
     "prompt_number": 1
    }
   ],
   "metadata": {}
  }
 ]
}